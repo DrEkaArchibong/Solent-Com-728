{
 "cells": [
  {
   "cell_type": "markdown",
   "id": "3c19b20b",
   "metadata": {},
   "source": [
    "TEST"
   ]
  },
  {
   "cell_type": "code",
   "execution_count": 1,
   "id": "caeda135",
   "metadata": {},
   "outputs": [
    {
     "data": {
      "text/plain": [
       "3"
      ]
     },
     "execution_count": 1,
     "metadata": {},
     "output_type": "execute_result"
    }
   ],
   "source": [
    "3"
   ]
  },
  {
   "cell_type": "code",
   "execution_count": 2,
   "id": "7ef0080a",
   "metadata": {},
   "outputs": [
    {
     "data": {
      "text/plain": [
       "int"
      ]
     },
     "execution_count": 2,
     "metadata": {},
     "output_type": "execute_result"
    }
   ],
   "source": [
    "#to check data type\n",
    "type(3)"
   ]
  },
  {
   "cell_type": "code",
   "execution_count": 3,
   "id": "62bbd346",
   "metadata": {},
   "outputs": [
    {
     "data": {
      "text/plain": [
       "float"
      ]
     },
     "execution_count": 3,
     "metadata": {},
     "output_type": "execute_result"
    }
   ],
   "source": [
    "type(3.4)"
   ]
  },
  {
   "cell_type": "code",
   "execution_count": 4,
   "id": "b41042d8",
   "metadata": {},
   "outputs": [
    {
     "data": {
      "text/plain": [
       "str"
      ]
     },
     "execution_count": 4,
     "metadata": {},
     "output_type": "execute_result"
    }
   ],
   "source": [
    "type(\"hello\")"
   ]
  },
  {
   "cell_type": "code",
   "execution_count": 5,
   "id": "0e8e4076",
   "metadata": {},
   "outputs": [],
   "source": [
    "#Camel case\n",
    "middleName = \"Ifiok\""
   ]
  },
  {
   "cell_type": "code",
   "execution_count": 6,
   "id": "6f40b2fb",
   "metadata": {},
   "outputs": [],
   "source": [
    "#Snake case\n",
    "middle_name = \"Ifiok\""
   ]
  },
  {
   "cell_type": "code",
   "execution_count": 7,
   "id": "8867e3f2",
   "metadata": {},
   "outputs": [
    {
     "data": {
      "text/plain": [
       "str"
      ]
     },
     "execution_count": 7,
     "metadata": {},
     "output_type": "execute_result"
    }
   ],
   "source": [
    "type(middle_name)"
   ]
  },
  {
   "cell_type": "code",
   "execution_count": 8,
   "id": "748266de",
   "metadata": {},
   "outputs": [],
   "source": [
    "tax_rate = 0.2"
   ]
  },
  {
   "cell_type": "code",
   "execution_count": 9,
   "id": "83abb5fa",
   "metadata": {},
   "outputs": [
    {
     "data": {
      "text/plain": [
       "float"
      ]
     },
     "execution_count": 9,
     "metadata": {},
     "output_type": "execute_result"
    }
   ],
   "source": [
    "type(tax_rate)"
   ]
  },
  {
   "cell_type": "code",
   "execution_count": 10,
   "id": "379fc41c",
   "metadata": {},
   "outputs": [],
   "source": [
    "tax = 750*0.2"
   ]
  },
  {
   "cell_type": "code",
   "execution_count": 11,
   "id": "19789038",
   "metadata": {},
   "outputs": [
    {
     "data": {
      "text/plain": [
       "150.0"
      ]
     },
     "execution_count": 11,
     "metadata": {},
     "output_type": "execute_result"
    }
   ],
   "source": [
    "tax"
   ]
  },
  {
   "cell_type": "code",
   "execution_count": 12,
   "id": "d5d8cd60",
   "metadata": {},
   "outputs": [
    {
     "name": "stdout",
     "output_type": "stream",
     "text": [
      "Eka\n"
     ]
    }
   ],
   "source": [
    "print(\"Eka\")"
   ]
  },
  {
   "cell_type": "code",
   "execution_count": 13,
   "id": "853deed3",
   "metadata": {},
   "outputs": [
    {
     "name": "stdout",
     "output_type": "stream",
     "text": [
      "150.0\n"
     ]
    }
   ],
   "source": [
    "print(tax)"
   ]
  },
  {
   "cell_type": "markdown",
   "id": "4d9c496b",
   "metadata": {},
   "source": [
    "f-string formatting"
   ]
  },
  {
   "cell_type": "code",
   "execution_count": 14,
   "id": "b1499ce7",
   "metadata": {},
   "outputs": [
    {
     "name": "stdout",
     "output_type": "stream",
     "text": [
      "\n",
      "Eka\n"
     ]
    }
   ],
   "source": [
    "name = \"Eka\"\n",
    "print(name)"
   ]
  },
  {
   "cell_type": "code",
   "execution_count": 15,
   "id": "c75f9e47",
   "metadata": {},
   "outputs": [
    {
     "name": "stdout",
     "output_type": "stream",
     "text": [
      "hello Eka, nice to meet you\n"
     ]
    }
   ],
   "source": [
    "print(f\"hello {name}, nice to meet you\")"
   ]
  },
  {
   "cell_type": "code",
   "execution_count": 42,
   "id": "7cbbff90",
   "metadata": {},
   "outputs": [
    {
     "name": "stdout",
     "output_type": "stream",
     "text": [
      "my name is Eka Archibong\n",
      "I'm a Data Scientist at solent University\n"
     ]
    }
   ],
   "source": [
    "name = \"Eka Archibong\"\n",
    "occupation = \"Data Scientist\"\n",
    "print(f\"my name is {name}\")\n",
    "print(f\"I'm a {occupation} at solent University\")"
   ]
  },
  {
   "cell_type": "code",
   "execution_count": 43,
   "id": "6850a839",
   "metadata": {},
   "outputs": [
    {
     "name": "stdout",
     "output_type": "stream",
     "text": [
      "my name is Eka Archibong,I'm a Data Scientist at solent university\n"
     ]
    }
   ],
   "source": [
    "occupation = \"Data Scientist\"\n",
    "print(f\"my name is {name},\",end=\"\")\n",
    "print(f\"I'm a {occupation} at solent university\")"
   ]
  },
  {
   "cell_type": "code",
   "execution_count": 24,
   "id": "8c3b40e2",
   "metadata": {},
   "outputs": [
    {
     "name": "stdout",
     "output_type": "stream",
     "text": [
      "4.4305\n"
     ]
    }
   ],
   "source": [
    "average = 4.4305\n",
    "print(average)"
   ]
  },
  {
   "cell_type": "code",
   "execution_count": 25,
   "id": "153dc01b",
   "metadata": {},
   "outputs": [
    {
     "name": "stdout",
     "output_type": "stream",
     "text": [
      "4.43\n"
     ]
    }
   ],
   "source": [
    "print(f\"{average:.2f}\")"
   ]
  },
  {
   "cell_type": "code",
   "execution_count": 26,
   "id": "cb7cdffa",
   "metadata": {},
   "outputs": [
    {
     "name": "stdout",
     "output_type": "stream",
     "text": [
      "4.430500\n"
     ]
    }
   ],
   "source": [
    "print(f\"{average:f}\")"
   ]
  },
  {
   "cell_type": "code",
   "execution_count": 28,
   "id": "b453bd71",
   "metadata": {},
   "outputs": [],
   "source": [
    "# INPUT"
   ]
  },
  {
   "cell_type": "code",
   "execution_count": 29,
   "id": "9813b06c",
   "metadata": {},
   "outputs": [
    {
     "name": "stdout",
     "output_type": "stream",
     "text": [
      "john\n"
     ]
    }
   ],
   "source": [
    "name = input()"
   ]
  },
  {
   "cell_type": "code",
   "execution_count": 30,
   "id": "890fb620",
   "metadata": {},
   "outputs": [
    {
     "name": "stdout",
     "output_type": "stream",
     "text": [
      "john\n",
      "Hello, john\n"
     ]
    }
   ],
   "source": [
    "name = input()\n",
    "print(f\"Hello, {name}\")"
   ]
  },
  {
   "cell_type": "code",
   "execution_count": 33,
   "id": "9be80787",
   "metadata": {},
   "outputs": [
    {
     "name": "stdout",
     "output_type": "stream",
     "text": [
      "enter your name: Eka\n"
     ]
    }
   ],
   "source": [
    "name = input(\"enter your name: \")"
   ]
  },
  {
   "cell_type": "code",
   "execution_count": 35,
   "id": "6a9a6687",
   "metadata": {},
   "outputs": [
    {
     "name": "stdout",
     "output_type": "stream",
     "text": [
      "enter your age:12\n"
     ]
    }
   ],
   "source": [
    "age = input(\"enter your age:\")"
   ]
  },
  {
   "cell_type": "code",
   "execution_count": 36,
   "id": "fcc33cd5",
   "metadata": {},
   "outputs": [
    {
     "data": {
      "text/plain": [
       "str"
      ]
     },
     "execution_count": 36,
     "metadata": {},
     "output_type": "execute_result"
    }
   ],
   "source": [
    "type(age)"
   ]
  },
  {
   "cell_type": "code",
   "execution_count": 37,
   "id": "6c4c23b2",
   "metadata": {},
   "outputs": [
    {
     "name": "stdout",
     "output_type": "stream",
     "text": [
      "Enter your age: 12\n"
     ]
    }
   ],
   "source": [
    "age = int(input(\"Enter your age: \"))"
   ]
  },
  {
   "cell_type": "code",
   "execution_count": 38,
   "id": "597e7956",
   "metadata": {},
   "outputs": [
    {
     "data": {
      "text/plain": [
       "int"
      ]
     },
     "execution_count": 38,
     "metadata": {},
     "output_type": "execute_result"
    }
   ],
   "source": [
    "type(age)"
   ]
  },
  {
   "cell_type": "code",
   "execution_count": 41,
   "id": "a0053381",
   "metadata": {},
   "outputs": [
    {
     "name": "stdout",
     "output_type": "stream",
     "text": [
      "Enter GBP:5\n",
      "5.0 pound = 5.50 US dollar\n"
     ]
    }
   ],
   "source": [
    "rate = 1.10\n",
    "gbp = float(input(\"Enter GBP:\"))\n",
    "US = gbp*rate\n",
    "print(f\"{gbp} pound = {US:.2f} US dollar\")"
   ]
  },
  {
   "cell_type": "code",
   "execution_count": 12,
   "id": "b5704266",
   "metadata": {},
   "outputs": [
    {
     "name": "stdout",
     "output_type": "stream",
     "text": [
      "original vaule = 22.34\n",
      "22.340000\n",
      "to 3 decimal places = 22.340\n",
      "width of 10 =     22.340\n"
     ]
    }
   ],
   "source": [
    "#formatting output, my practical\n",
    "sum = 22.34\n",
    "print(f\"original vaule = {sum}\")\n",
    "print(f\"{sum:f}\")\n",
    "print(f\"to 3 decimal places = {sum:.3f}\")\n",
    "print(f\"width of 10 = {sum:10.3f}\")"
   ]
  },
  {
   "cell_type": "code",
   "execution_count": 45,
   "id": "ce0f1856",
   "metadata": {},
   "outputs": [
    {
     "name": "stdout",
     "output_type": "stream",
     "text": [
      "enter meter length (m): 5\n",
      "wire length in feet is: 16.4\n"
     ]
    }
   ],
   "source": [
    "meter = float(input(\"enter meter length (m): \"))\n",
    "feet = meter * 3.28\n",
    "print(f\"wire length in feet is: {feet}\")"
   ]
  },
  {
   "cell_type": "code",
   "execution_count": 46,
   "id": "158d3ecd",
   "metadata": {},
   "outputs": [
    {
     "name": "stdout",
     "output_type": "stream",
     "text": [
      "no. of cans3\n",
      "tax payable: 7.5\n"
     ]
    }
   ],
   "source": [
    "#tax payable on cans of milk(my home work)\n",
    "no_of_cans = int(input(\"no. of cans\"))\n",
    "tax_per_can = 2.5\n",
    "tax_payable = no_of_cans*2.5\n",
    "print(f\"tax payable: {tax_payable}\")"
   ]
  },
  {
   "cell_type": "code",
   "execution_count": 1,
   "id": "bec25d62",
   "metadata": {},
   "outputs": [
    {
     "name": "stdout",
     "output_type": "stream",
     "text": [
      "my name is Eka Archie\n",
      "I am a Data Scientist\n"
     ]
    }
   ],
   "source": [
    "#my homework on f-string\n",
    "name = \"Eka Archie\"\n",
    "occupation = \"Data Scientist\"\n",
    "print(f\"my name is {name}\")\n",
    "print(f\"I am a {occupation}\")"
   ]
  },
  {
   "cell_type": "code",
   "execution_count": 7,
   "id": "2ed899de",
   "metadata": {},
   "outputs": [
    {
     "name": "stdout",
     "output_type": "stream",
     "text": [
      "my name is Eka Archie, I am a Data Scientist\n"
     ]
    }
   ],
   "source": [
    "name = \"Eka Archie\"\n",
    "occupation = \"Data Scientist\"\n",
    "print(f\"my name is {name}, \", end=\"\" )\n",
    "print(f\"I am a {occupation}\")"
   ]
  },
  {
   "cell_type": "code",
   "execution_count": 14,
   "id": "3a167d3c",
   "metadata": {},
   "outputs": [
    {
     "name": "stdout",
     "output_type": "stream",
     "text": [
      "Enter your name: Eka\n",
      "nice to meet you, Eka\n"
     ]
    }
   ],
   "source": [
    "#input function by user, my practicals\n",
    "name = input(\"Enter your name: \")\n",
    "print(f\"nice to meet you, {name}\")"
   ]
  },
  {
   "cell_type": "code",
   "execution_count": 19,
   "id": "9b68b084",
   "metadata": {},
   "outputs": [
    {
     "name": "stdout",
     "output_type": "stream",
     "text": [
      "what is your name?: \n",
      "Eka\n",
      "nice to meet you, Eka\n"
     ]
    }
   ],
   "source": [
    "print(\"what is your name?: \")\n",
    "name = input()\n",
    "print(f\"nice to meet you, {name}\")"
   ]
  },
  {
   "cell_type": "code",
   "execution_count": 23,
   "id": "ba74d01b",
   "metadata": {},
   "outputs": [
    {
     "name": "stdout",
     "output_type": "stream",
     "text": [
      "Enter your weight(kg): 98.3\n",
      "Enter your height (meters):1.65\n",
      "Your BMI is: 36.106519742883386\n"
     ]
    }
   ],
   "source": [
    "#converting to proper data types\n",
    "#calculating bmi, my practise\n",
    "weight = float(input(\"Enter your weight(kg): \"))\n",
    "height = float(input(\"Enter your height (meters):\"))\n",
    "BMI = weight / height**2\n",
    "print(f\"Your BMI is: {BMI}\")\n"
   ]
  },
  {
   "cell_type": "code",
   "execution_count": 24,
   "id": "f51c5c92",
   "metadata": {},
   "outputs": [
    {
     "name": "stdout",
     "output_type": "stream",
     "text": [
      "Enter your weight:20\n",
      "Enter your height:2\n",
      "5.0\n"
     ]
    }
   ],
   "source": [
    "weight = int(input(\"Enter your weight:\"))\n",
    "height = int(input(\"Enter your height:\"))\n",
    "BMI = weight / (height*height)\n",
    "print(BMI)"
   ]
  },
  {
   "cell_type": "code",
   "execution_count": 26,
   "id": "dcc672c6",
   "metadata": {},
   "outputs": [
    {
     "name": "stdout",
     "output_type": "stream",
     "text": [
      "124.5766\n"
     ]
    }
   ],
   "source": [
    "#Knowledge test 5\n",
    "124.576576\n",
    "print(f\"{124.576576:.4f}\")"
   ]
  },
  {
   "cell_type": "markdown",
   "id": "2ce0f9c1",
   "metadata": {},
   "source": [
    "ACTIVITY 2.1.1: Outputting simple message"
   ]
  },
  {
   "cell_type": "code",
   "execution_count": 47,
   "id": "bcfe39fe",
   "metadata": {},
   "outputs": [
    {
     "name": "stdout",
     "output_type": "stream",
     "text": [
      "system failure imminent\n"
     ]
    }
   ],
   "source": [
    "#display message to the standard output\n",
    "print(\"system failure imminent\")"
   ]
  },
  {
   "cell_type": "markdown",
   "id": "6fc86dbe",
   "metadata": {},
   "source": [
    "ACTIVITY 2.1.2: Multiline_message"
   ]
  },
  {
   "cell_type": "code",
   "execution_count": 48,
   "id": "c9e9d0d0",
   "metadata": {},
   "outputs": [
    {
     "name": "stdout",
     "output_type": "stream",
     "text": [
      "system failure imminent\n",
      "system reboot has been initiated\n"
     ]
    }
   ],
   "source": [
    "#display message to the standard output\n",
    "print(\"system failure imminent\")\n",
    "print(\"system reboot has been initiated\")"
   ]
  },
  {
   "cell_type": "code",
   "execution_count": 50,
   "id": "a198fd8e",
   "metadata": {},
   "outputs": [
    {
     "name": "stdout",
     "output_type": "stream",
     "text": [
      "system failure imminent\n",
      "system reboot has been initiated\n",
      "rebooting sensory system...\n",
      "rebooting output motors...\n",
      "rebooting hover engine...\n"
     ]
    }
   ],
   "source": [
    "print(\"system failure imminent\")\n",
    "print(\"system reboot has been initiated\")\n",
    "print(\"rebooting sensory system...\")\n",
    "print(\"rebooting output motors...\")\n",
    "print(\"rebooting hover engine...\")"
   ]
  },
  {
   "cell_type": "markdown",
   "id": "dac7320e",
   "metadata": {},
   "source": [
    "ACTIVITY 2.1.3: Escape characters"
   ]
  },
  {
   "cell_type": "code",
   "execution_count": 2,
   "id": "14a0d814",
   "metadata": {},
   "outputs": [
    {
     "name": "stdout",
     "output_type": "stream",
     "text": [
      "\n",
      " dispalys a new line\n"
     ]
    }
   ],
   "source": [
    "print(\"\\n dispalys a new line\")"
   ]
  },
  {
   "cell_type": "code",
   "execution_count": 4,
   "id": "64a7923d",
   "metadata": {},
   "outputs": [
    {
     "name": "stdout",
     "output_type": "stream",
     "text": [
      "\t displays a tab space\n"
     ]
    }
   ],
   "source": [
    "print(\"\\t displays a tab space\")"
   ]
  },
  {
   "cell_type": "code",
   "execution_count": 5,
   "id": "79ff61c1",
   "metadata": {},
   "outputs": [
    {
     "name": "stdout",
     "output_type": "stream",
     "text": [
      "\\ displays a back slash\n"
     ]
    }
   ],
   "source": [
    "print(\"\\\\ displays a back slash\")"
   ]
  },
  {
   "cell_type": "code",
   "execution_count": 7,
   "id": "4c6958c9",
   "metadata": {},
   "outputs": [
    {
     "name": "stdout",
     "output_type": "stream",
     "text": [
      "\" displays a double quote\n"
     ]
    }
   ],
   "source": [
    "print(\"\\\" displays a double quote\")"
   ]
  },
  {
   "cell_type": "code",
   "execution_count": 8,
   "id": "f7df8f36",
   "metadata": {},
   "outputs": [
    {
     "name": "stdout",
     "output_type": "stream",
     "text": [
      "' displays a single quote\n"
     ]
    }
   ],
   "source": [
    "print(\"\\' displays a single quote\")"
   ]
  },
  {
   "cell_type": "code",
   "execution_count": 18,
   "id": "f69891fc",
   "metadata": {},
   "outputs": [
    {
     "name": "stdout",
     "output_type": "stream",
     "text": [
      "\n",
      "\n",
      "\t I am Beep!\n"
     ]
    }
   ],
   "source": [
    "print(\"\\n\")\n",
    "print(\"\\t I am Beep!\")\n"
   ]
  },
  {
   "cell_type": "markdown",
   "id": "597ab357",
   "metadata": {},
   "source": [
    "ACTIVITY 2.1.4: Ascii_art"
   ]
  },
  {
   "cell_type": "code",
   "execution_count": 28,
   "id": "db6e89e9",
   "metadata": {},
   "outputs": [
    {
     "name": "stdout",
     "output_type": "stream",
     "text": [
      "$$$$$$$$$$\n",
      "#        #\n",
      "#        #\n",
      "#        #\n",
      "##########\n"
     ]
    }
   ],
   "source": [
    "print(\"$$$$$$$$$$\")\n",
    "print(\"#        #\")\n",
    "print(\"#        #\")\n",
    "print(\"#        #\")\n",
    "print(\"##########\")"
   ]
  },
  {
   "cell_type": "markdown",
   "id": "2f9da8c0",
   "metadata": {},
   "source": [
    "ACTIVITY 2.2.1 "
   ]
  },
  {
   "cell_type": "code",
   "execution_count": 3,
   "id": "5fa28e76",
   "metadata": {},
   "outputs": [
    {
     "name": "stdout",
     "output_type": "stream",
     "text": [
      "What's your name human?\n",
      "Eka\n",
      "nice to mee you Eka\n"
     ]
    }
   ],
   "source": [
    "#Helping beep feel reassured\n",
    "print(\"What's your name human?\")\n",
    "name = input()\n",
    "print(f\"nice to mee you {name}\")\n"
   ]
  },
  {
   "cell_type": "code",
   "execution_count": 5,
   "id": "35bd641f",
   "metadata": {},
   "outputs": [
    {
     "name": "stdout",
     "output_type": "stream",
     "text": [
      "What is your name human?Eka\n",
      "My name is Eka\n",
      "Nice to meet you Eka\n"
     ]
    }
   ],
   "source": [
    "name = input(\"What is your name human?\")\n",
    "print (f\"My name is {name}\")\n",
    "print(f\"Nice to meet you {name}\")"
   ]
  },
  {
   "cell_type": "markdown",
   "id": "026137b2",
   "metadata": {},
   "source": [
    "ACTIVITY 2.2.2: Data Types"
   ]
  },
  {
   "cell_type": "code",
   "execution_count": 13,
   "id": "28ce138b",
   "metadata": {
    "scrolled": true
   },
   "outputs": [
    {
     "name": "stdout",
     "output_type": "stream",
     "text": [
      "What is your name human?:Eka\n",
      "what is your age?:38\n",
      "what is your weight(kg)?:84\n",
      "what is your height(m)?:1.70\n",
      "Eka, you are 38 years old and your BMI is 29.065743944636683\n"
     ]
    }
   ],
   "source": [
    "#calculating BMI\n",
    "name = input(\"What is your name human?:\")\n",
    "age = input(\"what is your age?:\")\n",
    "weight = int(input(\"what is your weight(kg)?:\"))\n",
    "height = float(input(\"what is your height(m)?:\"))\n",
    "BMI = weight / height**2\n",
    "print(f\"{name}, you are {age} years old and your BMI is {BMI}\")"
   ]
  },
  {
   "cell_type": "markdown",
   "id": "d64e8cf1",
   "metadata": {},
   "source": [
    "ACTIVITY 2.2.3: String operator"
   ]
  },
  {
   "cell_type": "code",
   "execution_count": 15,
   "id": "71bfef3b",
   "metadata": {},
   "outputs": [
    {
     "name": "stdout",
     "output_type": "stream",
     "text": [
      "Please enter number of lives: ####\n",
      "Please enter the energy level: 4444\n",
      "Please enter the shield level: $$$$$$$\n",
      "Health has been set\n"
     ]
    }
   ],
   "source": [
    "#program to increase beep's health\n",
    "lives = input(\"Please enter number of lives: \")\n",
    "energy_level = input(\"Please enter the energy level: \")\n",
    "shield_level = input(\"Please enter the shield level: \")\n",
    "print(f\"Health has been set\")"
   ]
  },
  {
   "cell_type": "markdown",
   "id": "a2d02dc7",
   "metadata": {},
   "source": [
    "ACTIVITY 2.2.4"
   ]
  },
  {
   "cell_type": "code",
   "execution_count": 19,
   "id": "6639e657",
   "metadata": {},
   "outputs": [
    {
     "name": "stdout",
     "output_type": "stream",
     "text": [
      "Please enter your nameEka\n",
      "How are you? Eka\n",
      "fine, thank you\n",
      "Great, how can we help you today, Eka? \n",
      "my laptop is broken, I need it replaced\n",
      "OK, we will sort you out in a moment\n",
      "make of laptop: Hp\n",
      "year of purchase: 2005\n",
      "You got a replacemet Eka for Hp\n",
      "we hope you are happy with our services, if so, please drop us a five star rating\n",
      "yes. will sure do. thanks again\n"
     ]
    }
   ],
   "source": [
    "#Personal practise\n",
    "name = input(\"Please enter your name\")\n",
    "print(f\"How are you? {name}\")\n",
    "response = input()\n",
    "print(f\"Great, how can we help you today, {name}? \")\n",
    "get_help = input()\n",
    "print(f\"OK, we will sort you out in a moment\")\n",
    "make_of_laptop = input(\"make of laptop: \")\n",
    "year_of_purchase = input(\"year of purchase: \")\n",
    "print(f\"You got a replacemet {name} for {make_of_laptop}\")\n",
    "print(f\"we hope you are happy with our services, if so, please drop us a five star rating\")\n",
    "response_2 = input()"
   ]
  },
  {
   "cell_type": "code",
   "execution_count": null,
   "id": "eacb4e9f",
   "metadata": {},
   "outputs": [],
   "source": []
  }
 ],
 "metadata": {
  "kernelspec": {
   "display_name": "Python 3 (ipykernel)",
   "language": "python",
   "name": "python3"
  },
  "language_info": {
   "codemirror_mode": {
    "name": "ipython",
    "version": 3
   },
   "file_extension": ".py",
   "mimetype": "text/x-python",
   "name": "python",
   "nbconvert_exporter": "python",
   "pygments_lexer": "ipython3",
   "version": "3.9.12"
  }
 },
 "nbformat": 4,
 "nbformat_minor": 5
}
